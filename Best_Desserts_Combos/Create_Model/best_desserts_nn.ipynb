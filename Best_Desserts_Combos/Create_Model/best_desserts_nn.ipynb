{
 "cells": [
  {
   "cell_type": "markdown",
   "metadata": {
    "_uuid": "1faa04b7a078bdcc75b7f8ee88f74190ee7bf6ef"
   },
   "source": [
    "# **Dessert Flavor Combinations**\n",
    "The goal here is predict what flavor combinations make for a good dessert. E.g. history tells us apple, cinammon, and nutmeg pair well because a large number of recipies use these flavors and these recipies are generally well rated. Here, I attempt to do this with a data set scrapped from epicurious.com. Basically, the features are a list of flavors present in the recipie and the target is the rating (0 to 4 stars)\n",
    "\n",
    "This notebook is an attempt to apply a NN instead of a SVR, WORK IN PROGRESS!!!!!"
   ]
  },
  {
   "cell_type": "code",
   "execution_count": 1,
   "metadata": {
    "_cell_guid": "b1076dfc-b9ad-4769-8c92-a6c4dae69d19",
    "_uuid": "8f2839f25d086af736a60e9eeb907d3b93b6e0e5"
   },
   "outputs": [
    {
     "data": {
      "text/html": [
       "<style>.container { width:100% !important; }</style>"
      ],
      "text/plain": [
       "<IPython.core.display.HTML object>"
      ]
     },
     "metadata": {},
     "output_type": "display_data"
    },
    {
     "name": "stderr",
     "output_type": "stream",
     "text": [
      "/home/lgriffin/anaconda3/lib/python3.6/site-packages/h5py/__init__.py:36: FutureWarning: Conversion of the second argument of issubdtype from `float` to `np.floating` is deprecated. In future, it will be treated as `np.float64 == np.dtype(float).type`.\n",
      "  from ._conv import register_converters as _register_converters\n"
     ]
    }
   ],
   "source": [
    "%matplotlib notebook\n",
    "from IPython.core.display import display, HTML\n",
    "display(HTML(\"<style>.container { width:100% !important; }</style>\"))\n",
    "\n",
    "import numpy as np # linear algebra\n",
    "import pandas as pd # data processing, CSV file I/O (e.g. pd.read_csv)\n",
    "import nltk as nltk\n",
    "import string\n",
    "\n",
    "from sklearn.pipeline import make_pipeline\n",
    "from sklearn.feature_extraction.text import TfidfVectorizer\n",
    "\n",
    "import tensorflow as tf\n",
    "from tensorflow import keras\n",
    "\n",
    "import matplotlib.pyplot as plt\n",
    "from mpl_toolkits.mplot3d import Axes3D"
   ]
  },
  {
   "cell_type": "markdown",
   "metadata": {
    "_uuid": "67f536930cd9abbce920d61347ceae3a35978efa"
   },
   "source": [
    "## 1) Load data"
   ]
  },
  {
   "cell_type": "code",
   "execution_count": 2,
   "metadata": {
    "_cell_guid": "79c7e3d0-c299-4dcb-8224-4455121ee9b0",
    "_uuid": "d629ff2d2480ee46fbb7e2d37f6b5fab8052498a"
   },
   "outputs": [],
   "source": [
    "dataset = pd.read_csv('recipes.csv')"
   ]
  },
  {
   "cell_type": "markdown",
   "metadata": {
    "_uuid": "2d63a10eef2208344b52fc120bbec7d95bf3f074"
   },
   "source": [
    "## 2) Clean Data"
   ]
  },
  {
   "cell_type": "code",
   "execution_count": 3,
   "metadata": {
    "_uuid": "80feed509459d78af6e6b28d98bb4ca3a7c4d247"
   },
   "outputs": [],
   "source": [
    "#Remove entires that dont have strings for the flavors\n",
    "dataset = dataset[dataset['flavors'].apply(lambda x: isinstance(x, str))]\n",
    "\n",
    "#tokenize the flavor string \n",
    "temp = dataset['flavors'].apply(lambda x: np.unique(nltk.word_tokenize(x)))\n",
    "\n",
    "#Calc number of flavors\n",
    "dataset.loc[:,'num_flavors'] = temp.apply(lambda x: x.shape[0])\n",
    "\n",
    "#Remove entries with only 1 flavor\n",
    "dataset = dataset[dataset['num_flavors'] > 1]\n",
    "\n",
    "#convert rating to float\n",
    "dataset.loc[:,'rating'] = dataset['rating'].apply(lambda x: float(x))\n",
    "\n",
    "dataset.loc[:,'flavors_clean'] = temp.apply(lambda x: \"\".join([\" \"+i if not i.startswith(\"'\") and i not in string.punctuation else i for i in x]).strip())\n",
    "\n",
    "#So, one thing I have yet to do is account for recipes that have no reviews...\n",
    "#I need to re-scrape the data set to get that info, for now lets just remove\n",
    "#recipies with a rating of 0\n",
    "dataset = dataset[dataset['rating'] != 0]"
   ]
  },
  {
   "cell_type": "markdown",
   "metadata": {
    "_uuid": "2672e4ff1567d85a94f15772abd189f4c40a4418"
   },
   "source": [
    "## 3) Preprocess"
   ]
  },
  {
   "cell_type": "code",
   "execution_count": 4,
   "metadata": {
    "_uuid": "fd99079d82164f1fd5f893a36892121cef6a6456"
   },
   "outputs": [],
   "source": [
    "#Get features and targets\n",
    "features = dataset['flavors_clean'].values\n",
    "targets = dataset['rating'].values"
   ]
  },
  {
   "cell_type": "code",
   "execution_count": 13,
   "metadata": {
    "_uuid": "cb6c5b68b941fa55ad7045f00d94953fb58df17e"
   },
   "outputs": [],
   "source": [
    "#Set up a pipeline:\n",
    "#   1) Use TF-IDF to generate features\n",
    "#   2) maybe other things later????\n",
    "vectorizer = make_pipeline(\n",
    "    TfidfVectorizer(sublinear_tf=True)\n",
    ")\n",
    "\n",
    "x_train = vectorizer.fit_transform(features).todense()"
   ]
  },
  {
   "cell_type": "markdown",
   "metadata": {
    "_uuid": "f183532647f72808d19ace6bfba64e816500c01b"
   },
   "source": [
    "## 4) Model"
   ]
  },
  {
   "cell_type": "code",
   "execution_count": 20,
   "metadata": {
    "_uuid": "17ab1941b0d486219befa6209fa545286cbb08af"
   },
   "outputs": [],
   "source": [
    "model = keras.Sequential([\n",
    "    keras.layers.Dense(128, activation=tf.nn.relu),\n",
    "    keras.layers.Dense(128, activation=tf.nn.softmax),\n",
    "    keras.layers.Dense(1)\n",
    "])"
   ]
  },
  {
   "cell_type": "code",
   "execution_count": 21,
   "metadata": {},
   "outputs": [],
   "source": [
    "model.compile(optimizer=tf.train.RMSPropOptimizer(0.001), \n",
    "              loss='mse',\n",
    "              metrics=['mae'])"
   ]
  },
  {
   "cell_type": "markdown",
   "metadata": {
    "_uuid": "fad9cb6294cb1e2a385264e3277742beb68ba958"
   },
   "source": [
    "## 6) Train"
   ]
  },
  {
   "cell_type": "code",
   "execution_count": 26,
   "metadata": {
    "_uuid": "4321e1e434c0c752da48b4b2e6775afcaa171c74"
   },
   "outputs": [
    {
     "name": "stdout",
     "output_type": "stream",
     "text": [
      "Train on 4632 samples, validate on 1159 samples\n",
      "Epoch 1/10\n",
      "4632/4632 [==============================] - 0s 98us/step - loss: 0.3189 - mean_absolute_error: 0.4358 - val_loss: 0.2365 - val_mean_absolute_error: 0.3755\n",
      "Epoch 2/10\n",
      "4632/4632 [==============================] - 1s 137us/step - loss: 0.3189 - mean_absolute_error: 0.4345 - val_loss: 0.2361 - val_mean_absolute_error: 0.3770\n",
      "Epoch 3/10\n",
      "4632/4632 [==============================] - 1s 152us/step - loss: 0.3190 - mean_absolute_error: 0.4362 - val_loss: 0.2363 - val_mean_absolute_error: 0.3762\n",
      "Epoch 4/10\n",
      "4632/4632 [==============================] - 1s 131us/step - loss: 0.3190 - mean_absolute_error: 0.4357 - val_loss: 0.2363 - val_mean_absolute_error: 0.3763\n",
      "Epoch 5/10\n",
      "4632/4632 [==============================] - 1s 137us/step - loss: 0.3188 - mean_absolute_error: 0.4364 - val_loss: 0.2375 - val_mean_absolute_error: 0.3733\n",
      "Epoch 6/10\n",
      "4632/4632 [==============================] - 1s 138us/step - loss: 0.3190 - mean_absolute_error: 0.4347 - val_loss: 0.2371 - val_mean_absolute_error: 0.3741\n",
      "Epoch 7/10\n",
      "4632/4632 [==============================] - 1s 138us/step - loss: 0.3190 - mean_absolute_error: 0.4347 - val_loss: 0.2365 - val_mean_absolute_error: 0.3757\n",
      "Epoch 8/10\n",
      "4632/4632 [==============================] - 1s 148us/step - loss: 0.3189 - mean_absolute_error: 0.4353 - val_loss: 0.2364 - val_mean_absolute_error: 0.3758\n",
      "Epoch 9/10\n",
      "4632/4632 [==============================] - 1s 142us/step - loss: 0.3190 - mean_absolute_error: 0.4358 - val_loss: 0.2364 - val_mean_absolute_error: 0.3760\n",
      "Epoch 10/10\n",
      "4632/4632 [==============================] - 1s 137us/step - loss: 0.3190 - mean_absolute_error: 0.4362 - val_loss: 0.2366 - val_mean_absolute_error: 0.3754\n"
     ]
    }
   ],
   "source": [
    "epocs = 10\n",
    "dessert_rating = model.fit(x_train, targets, epochs=epocs, validation_split=0.2)"
   ]
  },
  {
   "cell_type": "markdown",
   "metadata": {},
   "source": [
    "Not better than the SVR!!! so far.."
   ]
  },
  {
   "cell_type": "code",
   "execution_count": null,
   "metadata": {},
   "outputs": [],
   "source": []
  }
 ],
 "metadata": {
  "kernelspec": {
   "display_name": "Python 3",
   "language": "python",
   "name": "python3"
  },
  "language_info": {
   "codemirror_mode": {
    "name": "ipython",
    "version": 3
   },
   "file_extension": ".py",
   "mimetype": "text/x-python",
   "name": "python",
   "nbconvert_exporter": "python",
   "pygments_lexer": "ipython3",
   "version": "3.6.4"
  }
 },
 "nbformat": 4,
 "nbformat_minor": 1
}
